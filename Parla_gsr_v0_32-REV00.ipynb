{
 "cells": [
  {
   "cell_type": "code",
   "execution_count": 1,
   "id": "566ab28e",
   "metadata": {},
   "outputs": [],
   "source": [
    "import os\n",
    "import subprocess\n",
    "import speech_recognition as sr"
   ]
  },
  {
   "cell_type": "code",
   "execution_count": 2,
   "id": "9f7bb2fb",
   "metadata": {},
   "outputs": [
    {
     "data": {
      "text/plain": [
       "0"
      ]
     },
     "execution_count": 2,
     "metadata": {},
     "output_type": "execute_result"
    }
   ],
   "source": [
    "command = \"ffmpeg -i video_2.mp4 -f mp3 -ab 192000 -vn audio.mp3\"\n",
    "subprocess.call(command, shell=True)\n",
    "command = \"ffmpeg -i audio.mp3 -acodec pcm_s16le -ac 1 -ar 16000 audio_wav.wav\"\n",
    "subprocess.call(command, shell=True)"
   ]
  },
  {
   "cell_type": "code",
   "execution_count": 3,
   "id": "544d0247",
   "metadata": {},
   "outputs": [
    {
     "data": {
      "text/plain": [
       "0"
      ]
     },
     "execution_count": 3,
     "metadata": {},
     "output_type": "execute_result"
    }
   ],
   "source": [
    "command = \"ffmpeg -i audio_wav.wav -f segment -segment_time 60 -c copy %03d.wav\"\n",
    "subprocess.call(command, shell=True)"
   ]
  },
  {
   "cell_type": "code",
   "execution_count": 19,
   "id": "0e25fdef",
   "metadata": {},
   "outputs": [],
   "source": [
    "files = []\n",
    "for filename in os.listdir(\".\"):\n",
    "    if filename.endswith(\".wav\") and filename != \"audio_wav.wav\":\n",
    "        files.append(filename)\n",
    "files.sort()"
   ]
  },
  {
   "cell_type": "code",
   "execution_count": 20,
   "id": "3fcf515a",
   "metadata": {},
   "outputs": [],
   "source": [
    "results = []\n",
    "for filename in files:\n",
    "    with open(filename, \"rb\") as f:\n",
    "        r = sr.Recognizer()\n",
    "        audio_test = sr.AudioFile(f)\n",
    "        with audio_test as source:\n",
    "            r.adjust_for_ambient_noise(source)\n",
    "            audio = r.record(source)\n",
    "        res = r.recognize_google(audio, language='pt-BR')\n",
    "        results.append(res)"
   ]
  },
  {
   "cell_type": "code",
   "execution_count": 21,
   "id": "443647a9",
   "metadata": {},
   "outputs": [],
   "source": [
    "text = []\n",
    "for result in results:\n",
    "    text.append(result + \".\\n\")"
   ]
  },
  {
   "cell_type": "code",
   "execution_count": 22,
   "id": "d73fb90e",
   "metadata": {},
   "outputs": [
    {
     "name": "stdout",
     "output_type": "stream",
     "text": [
      "['usufruindo tanto do apoio psicológico com o de outros tipos de serviço né Ah tá que elas também de aromaterapia que tem florais e de 7 cursos de extensão gratuitos inclusive de outras áreas de pedagogia eles podem né então acho que eles às vezes deixam de perceber esse valor agregado aí que eles podem ter e saber que é um investimento no momento dificílimo mas acaba que ainda investimento né Eu acho que eles têm que enfim que coloca aí como encaminhamento para fazer essa reunião com eles tá Vamos retomar as faltas Obrigado Simone pelo relato e acompanhamento da turma pode sair no momento que você achar adequado tá preocupe Davi pau próximas pautas retomados.\\n', 'passada que dentro dessa pauta tem subir pautas né quando eu apresentar documentos e informe sobre o andamento do usuário e informe sobre o 2º concurso de desenho Fametro muito bem é tomado dos encaminhamentos das faltas do mês anterior gente a gente colocou como encaminhamentos um entregar o mapeamento das mudanças do texto do PC relacionado ao tft2 professora Simone fez isso me enviou por e-mail e eu tenho informes também importantes sobre esse ponto 215 todas as reuniões que a gente vai se arrumar o plano de ação e você colocou uma geral novamente Como estão as nossas os nossos cabelos de trabalho acerca da invasão da captação de alunos que aí o professor Davi vai trazer isso aí como é que tá esse andamento e como é que tá esse.\\n', 'retomar o debate dos das publicações dos nossos professores e aí o quinto encaminhamento tem a ver com esse quarto que é fazer esse levantamento da quantidade publicações dos professores que eu fiz esse levantamento e vou apresentar para vocês certo então próxima temos aqui atualização do PC pessoal Simone mandou qual era a a o encaminhamento da Simone fazer as mudanças do texto do PC relacionado ao tfg o que a gente encontrou em consistência de termos a gente viu que o texto que tava lá no PC por estado atualizado tava um pouquinho descompassado com a proposta da disciplina e agora que a gente parou para fazer um nó na disciplina a gente tem muito mais informações sobre a disciplina esses.\\n']\n"
     ]
    }
   ],
   "source": [
    "print(text)"
   ]
  },
  {
   "cell_type": "code",
   "execution_count": 23,
   "id": "d31a662c",
   "metadata": {},
   "outputs": [],
   "source": [
    "with open(\"output.txt\", \"w\") as out:\n",
    "    out.writelines(text)\n"
   ]
  }
 ],
 "metadata": {
  "kernelspec": {
   "display_name": "Python 3",
   "language": "python",
   "name": "python3"
  },
  "language_info": {
   "codemirror_mode": {
    "name": "ipython",
    "version": 3
   },
   "file_extension": ".py",
   "mimetype": "text/x-python",
   "name": "python",
   "nbconvert_exporter": "python",
   "pygments_lexer": "ipython3",
   "version": "3.6.13"
  }
 },
 "nbformat": 4,
 "nbformat_minor": 5
}
